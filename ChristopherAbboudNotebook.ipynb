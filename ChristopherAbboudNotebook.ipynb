{
 "cells": [
  {
   "cell_type": "code",
   "execution_count": 1,
   "metadata": {},
   "outputs": [
    {
     "name": "stdout",
     "output_type": "stream",
     "text": [
      "Hello 123\n"
     ]
    }
   ],
   "source": [
    "import numpy as np\n",
    "import pandas as pd\n",
    "\n",
    "import geopandas\n",
    "%matplotlib inline\n",
    "import matplotlib.pyplot as plt"
   ]
  },
  {
   "cell_type": "code",
   "execution_count": null,
   "metadata": {},
   "outputs": [
    {
     "name": "stdout",
     "output_type": "stream",
     "text": [
      "jonhy\n"
     ]
    }
   ],
   "source": [
    "data = pd.read_csv(\"https://data.wprdc.org/datastore/dump/1515a93c-73e3-4425-9b35-1cd11b2196da\")\n",
    "data = data[data['neighborhood'].notnull()]\n",
    "data = data.groupby('neighborhood').count()\n",
    "\n",
    "sortedData = data[['id']].sort_values(by='id', ascending=False)\n",
    "sortedData.head(10)\n",
    "\n",
    "Visual = sortedData.plot(kind='bar', figsize=(25,10),legend=False, fontsize=15)\n",
    "Visual.set_title(\"Number of Trees taken care of by the City of Pittsburgh for each Neighborhood\", fontsize=15)\n",
    "Visual.set_xlabel('Neighborhood', fontsize = 15)\n",
    "Visual.set_ylabel('Number of Trees', fontsize = 15)"
   ]
  },
  {
   "cell_type": "code",
   "execution_count": null,
   "metadata": {},
   "outputs": [],
   "source": [
    "neighborhoods = geopandas.read_file(\"Neighborhoods/Neighborhoods_.shp\")\n",
    "tree_map = neighborhoods.merge(sortedData, how=\"left\", left_on=\"hood\", right_on=\"neighborhood\")\n",
    "map = tree_map.plot(column='id',\n",
    "               cmap='Greens',\n",
    "               edgecolor=\"grey\",\n",
    "               legend=True,\n",
    "               legend_kwds={'label': \"Number of Trees\"},\n",
    "               figsize=(15, 10),\n",
    "               missing_kwds={\"color\": \"lightgrey\"})\n",
    "\n",
    "map.set_title(\"Number of Trees managed by the city in the Neighborhoods of Pittsburgh\", fontsize = 15)"
   ]
  },
  {
   "cell_type": "code",
   "execution_count": null,
   "metadata": {},
   "outputs": [],
   "source": []
  }
 ],
 "metadata": {
  "kernelspec": {
   "display_name": "Python 3",
   "language": "python",
   "name": "python3"
  },
  "language_info": {
   "codemirror_mode": {
    "name": "ipython",
    "version": 3
   },
   "file_extension": ".py",
   "mimetype": "text/x-python",
   "name": "python",
   "nbconvert_exporter": "python",
   "pygments_lexer": "ipython3",
   "version": "3.8.3"
  }
 },
 "nbformat": 4,
 "nbformat_minor": 4
}
